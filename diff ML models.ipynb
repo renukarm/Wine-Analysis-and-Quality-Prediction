{
 "cells": [
  {
   "cell_type": "code",
   "execution_count": 77,
   "id": "77f1b06c",
   "metadata": {},
   "outputs": [
    {
     "data": {
      "text/html": [
       "<div>\n",
       "<style scoped>\n",
       "    .dataframe tbody tr th:only-of-type {\n",
       "        vertical-align: middle;\n",
       "    }\n",
       "\n",
       "    .dataframe tbody tr th {\n",
       "        vertical-align: top;\n",
       "    }\n",
       "\n",
       "    .dataframe thead th {\n",
       "        text-align: right;\n",
       "    }\n",
       "</style>\n",
       "<table border=\"1\" class=\"dataframe\">\n",
       "  <thead>\n",
       "    <tr style=\"text-align: right;\">\n",
       "      <th></th>\n",
       "      <th>fixed acidity</th>\n",
       "      <th>volatile acidity</th>\n",
       "      <th>citric acid</th>\n",
       "      <th>residual sugar</th>\n",
       "      <th>chlorides</th>\n",
       "      <th>free sulfur dioxide</th>\n",
       "      <th>total sulfur dioxide</th>\n",
       "      <th>density</th>\n",
       "      <th>pH</th>\n",
       "      <th>sulphates</th>\n",
       "      <th>alcohol</th>\n",
       "      <th>quality</th>\n",
       "    </tr>\n",
       "  </thead>\n",
       "  <tbody>\n",
       "    <tr>\n",
       "      <th>0</th>\n",
       "      <td>10.6</td>\n",
       "      <td>0.28</td>\n",
       "      <td>0.39</td>\n",
       "      <td>15.5</td>\n",
       "      <td>0.069</td>\n",
       "      <td>6</td>\n",
       "      <td>23</td>\n",
       "      <td>1.0026</td>\n",
       "      <td>3.12</td>\n",
       "      <td>0.66</td>\n",
       "      <td>9.2</td>\n",
       "      <td>5</td>\n",
       "    </tr>\n",
       "    <tr>\n",
       "      <th>1</th>\n",
       "      <td>9.4</td>\n",
       "      <td>0.30</td>\n",
       "      <td>0.56</td>\n",
       "      <td>2.8</td>\n",
       "      <td>0.080</td>\n",
       "      <td>6</td>\n",
       "      <td>17</td>\n",
       "      <td>0.9964</td>\n",
       "      <td>3.15</td>\n",
       "      <td>0.92</td>\n",
       "      <td>11.7</td>\n",
       "      <td>8</td>\n",
       "    </tr>\n",
       "    <tr>\n",
       "      <th>2</th>\n",
       "      <td>10.6</td>\n",
       "      <td>0.36</td>\n",
       "      <td>0.59</td>\n",
       "      <td>2.2</td>\n",
       "      <td>0.152</td>\n",
       "      <td>6</td>\n",
       "      <td>18</td>\n",
       "      <td>0.9986</td>\n",
       "      <td>3.04</td>\n",
       "      <td>1.05</td>\n",
       "      <td>9.4</td>\n",
       "      <td>5</td>\n",
       "    </tr>\n",
       "    <tr>\n",
       "      <th>3</th>\n",
       "      <td>10.6</td>\n",
       "      <td>0.36</td>\n",
       "      <td>0.60</td>\n",
       "      <td>2.2</td>\n",
       "      <td>0.152</td>\n",
       "      <td>7</td>\n",
       "      <td>18</td>\n",
       "      <td>0.9986</td>\n",
       "      <td>3.04</td>\n",
       "      <td>1.06</td>\n",
       "      <td>9.4</td>\n",
       "      <td>5</td>\n",
       "    </tr>\n",
       "    <tr>\n",
       "      <th>4</th>\n",
       "      <td>10.6</td>\n",
       "      <td>0.44</td>\n",
       "      <td>0.68</td>\n",
       "      <td>4.1</td>\n",
       "      <td>0.114</td>\n",
       "      <td>6</td>\n",
       "      <td>24</td>\n",
       "      <td>0.9970</td>\n",
       "      <td>3.06</td>\n",
       "      <td>0.66</td>\n",
       "      <td>13.4</td>\n",
       "      <td>6</td>\n",
       "    </tr>\n",
       "  </tbody>\n",
       "</table>\n",
       "</div>"
      ],
      "text/plain": [
       "   fixed acidity  volatile acidity  citric acid  residual sugar  chlorides  \\\n",
       "0           10.6              0.28         0.39            15.5      0.069   \n",
       "1            9.4              0.30         0.56             2.8      0.080   \n",
       "2           10.6              0.36         0.59             2.2      0.152   \n",
       "3           10.6              0.36         0.60             2.2      0.152   \n",
       "4           10.6              0.44         0.68             4.1      0.114   \n",
       "\n",
       "   free sulfur dioxide  total sulfur dioxide  density    pH  sulphates  \\\n",
       "0                    6                    23   1.0026  3.12       0.66   \n",
       "1                    6                    17   0.9964  3.15       0.92   \n",
       "2                    6                    18   0.9986  3.04       1.05   \n",
       "3                    7                    18   0.9986  3.04       1.06   \n",
       "4                    6                    24   0.9970  3.06       0.66   \n",
       "\n",
       "   alcohol  quality  \n",
       "0      9.2        5  \n",
       "1     11.7        8  \n",
       "2      9.4        5  \n",
       "3      9.4        5  \n",
       "4     13.4        6  "
      ]
     },
     "execution_count": 77,
     "metadata": {},
     "output_type": "execute_result"
    }
   ],
   "source": [
    "# importing train and test data sets\n",
    "import pandas as pd\n",
    "import numpy as np\n",
    "df_train= pd.read_csv('https://raw.githubusercontent.com/rafathrb/test/main/wineQualityRed_train.csv')\n",
    "df_test= pd.read_csv('https://raw.githubusercontent.com/rafathrb/test/main/wineQualityRed_test.csv')\n",
    "\n",
    "df_train.head()"
   ]
  },
  {
   "cell_type": "code",
   "execution_count": 78,
   "id": "8b135e43",
   "metadata": {},
   "outputs": [],
   "source": [
    "#considering quality as class, creating a new column with good=1, bad=0\n",
    "df_train['type']=(df_train['quality']>=7).astype('int')\n",
    "df_test['type']=(df_test['quality']>=7).astype('int')"
   ]
  },
  {
   "cell_type": "code",
   "execution_count": 79,
   "id": "13873d93",
   "metadata": {},
   "outputs": [],
   "source": [
    "#preparing features and target for regression\n",
    "x_train= df_train.drop(['type','quality'],axis=1)\n",
    "y_train= df_train['type']\n",
    "x_test= df_test.drop(['type','quality'],axis=1)\n",
    "y_test= df_test['type']"
   ]
  },
  {
   "cell_type": "markdown",
   "id": "1ec94cca",
   "metadata": {},
   "source": [
    "# Logistic Regression"
   ]
  },
  {
   "cell_type": "code",
   "execution_count": 80,
   "id": "39765c09",
   "metadata": {},
   "outputs": [
    {
     "name": "stderr",
     "output_type": "stream",
     "text": [
      "C:\\Users\\mssre\\anaconda3\\lib\\site-packages\\sklearn\\linear_model\\_logistic.py:763: ConvergenceWarning: lbfgs failed to converge (status=1):\n",
      "STOP: TOTAL NO. of ITERATIONS REACHED LIMIT.\n",
      "\n",
      "Increase the number of iterations (max_iter) or scale the data as shown in:\n",
      "    https://scikit-learn.org/stable/modules/preprocessing.html\n",
      "Please also refer to the documentation for alternative solver options:\n",
      "    https://scikit-learn.org/stable/modules/linear_model.html#logistic-regression\n",
      "  n_iter_i = _check_optimize_result(\n"
     ]
    }
   ],
   "source": [
    "# performing logistic regression and predicting quality\n",
    "\n",
    "from sklearn.linear_model import LogisticRegression\n",
    "from sklearn import metrics\n",
    "logreg= LogisticRegression()\n",
    "logreg.fit(x_train,y_train)\n",
    "y_pred=logreg.predict(x_test)"
   ]
  },
  {
   "cell_type": "code",
   "execution_count": 81,
   "id": "6b789c37",
   "metadata": {},
   "outputs": [
    {
     "name": "stdout",
     "output_type": "stream",
     "text": [
      "Accuracy of the model is 0.8729166666666667\n",
      "Precision of the model is 0.14814814814814814\n",
      "Recall Score of the model is 0.34782608695652173\n",
      "F1 Score of the model is 0.20779220779220778\n"
     ]
    }
   ],
   "source": [
    "#calculating accuracy, precision, recall and f1 scores\n",
    "print('Accuracy of the model is',metrics.accuracy_score(y_pred,y_test))\n",
    "print('Precision of the model is',metrics.precision_score(y_pred,y_test))\n",
    "print('Recall Score of the model is',metrics.recall_score(y_pred,y_test))\n",
    "print('F1 Score of the model is',metrics.f1_score(y_pred,y_test))"
   ]
  },
  {
   "cell_type": "code",
   "execution_count": 82,
   "id": "4d08c069",
   "metadata": {},
   "outputs": [
    {
     "name": "stdout",
     "output_type": "stream",
     "text": [
      "Specificity is 0.899343544857768\n",
      "Sensitivity is 0.34782608695652173\n"
     ]
    }
   ],
   "source": [
    "# calculating specificity and sensitivity from confusion matrix\n",
    "tn, fp, fn, tp = metrics.confusion_matrix(y_pred,y_test).ravel()\n",
    "specificity = tn / (tn+fp)\n",
    "sensitivity= tp/(tp+fn)\n",
    "print('Specificity is',specificity)\n",
    "print('Sensitivity is',sensitivity)"
   ]
  },
  {
   "cell_type": "markdown",
   "id": "91076ac4",
   "metadata": {},
   "source": [
    "# Linear Regression as Classifier"
   ]
  },
  {
   "cell_type": "code",
   "execution_count": 83,
   "id": "82026564",
   "metadata": {},
   "outputs": [
    {
     "data": {
      "text/plain": [
       "array([-1.24843063e-01, -4.48198225e-02, -2.59373494e-02,  1.72222612e-01,\n",
       "       -1.24843063e-01, -1.22188729e-01, -7.65587210e-02,  1.53257966e-02,\n",
       "       -1.06288933e-02,  2.25154254e-01, -8.34462049e-02,  2.25154254e-01,\n",
       "       -3.50580355e-02,  3.67805573e-01, -4.69769819e-02, -1.63959082e-02,\n",
       "        2.00652196e-01,  8.73025879e-02, -6.26121485e-02,  8.01827615e-02,\n",
       "        8.15343559e-02,  4.92553551e-03,  1.70495291e-01, -1.68025283e-04,\n",
       "        3.13503378e-02,  1.05360833e-02,  7.78085701e-02,  1.70495291e-01,\n",
       "       -1.20973725e-01,  1.34471292e-02, -3.05050186e-02, -1.86764212e-02,\n",
       "        2.78216066e-02, -9.65364749e-03, -4.30052903e-02, -2.48274689e-02,\n",
       "        7.38154071e-02,  1.60378629e-01, -1.89157418e-01,  2.47909267e-01,\n",
       "        2.47909267e-01, -3.91631862e-02,  5.57432618e-02,  3.52711681e-01,\n",
       "       -4.43544669e-02,  2.77036163e-01, -8.39865972e-02,  8.57137942e-02,\n",
       "        2.57703358e-02,  6.54095894e-03,  7.41814258e-02,  4.71400253e-02,\n",
       "        6.13138718e-02,  3.55390404e-02,  9.26625616e-02, -7.07371446e-02,\n",
       "        2.37293509e-01, -2.66989196e-02, -3.44871262e-03,  4.62541363e-02,\n",
       "        3.56025963e-02, -2.41220646e-02,  7.52230959e-03, -6.60201106e-02,\n",
       "        4.17434689e-02,  4.17434689e-02, -1.67478494e-02,  2.77871703e-02,\n",
       "        2.94594134e-01,  2.36232743e-01, -4.16178562e-02, -7.74388071e-02,\n",
       "       -8.03874597e-02, -8.09204867e-02,  1.68305965e-01,  1.28937461e-01,\n",
       "        1.28937461e-01, -3.96574609e-02, -5.44322601e-02,  1.49262479e-01,\n",
       "        1.13338559e-03,  4.94238780e-02, -4.04037446e-02, -4.98469709e-02,\n",
       "        2.07507581e-01,  4.19317322e-02,  6.24756009e-01,  7.78602095e-02,\n",
       "        2.91620622e-01, -1.46983750e-01, -5.34404937e-02,  6.24756009e-01,\n",
       "        6.37616594e-01,  7.78602095e-02, -1.07778172e-01,  2.55107722e-01,\n",
       "       -8.57435640e-04,  4.31207083e-02, -5.00583369e-02, -3.56026156e-02,\n",
       "        5.31214666e-02,  1.27176594e-01, -3.56026156e-02, -4.43435089e-02,\n",
       "        3.06871292e-03, -4.43435089e-02,  6.00511243e-02, -8.97847730e-03,\n",
       "        1.45083488e-01, -7.68702259e-02,  1.53776033e-01,  4.75474985e-02,\n",
       "        4.81198214e-02,  1.20521224e-01,  1.53776033e-01,  1.92495962e-01,\n",
       "        3.25690573e-02, -5.31151784e-02,  1.16626816e-01, -1.17026739e-01,\n",
       "       -2.57252462e-01,  1.16626816e-01, -1.33972559e-01, -8.91455874e-02,\n",
       "       -5.04443648e-02, -9.61890965e-02, -1.02945291e-01, -1.09322018e-01,\n",
       "        2.67584497e-01,  3.71082349e-02, -5.27316643e-02,  3.14313755e-01,\n",
       "        3.14313755e-01,  4.55509762e-02, -5.84538876e-02,  7.86734017e-02,\n",
       "        5.11844665e-02,  1.10344066e-02, -2.30790801e-02, -2.85240293e-02,\n",
       "        7.86734017e-02,  5.11844665e-02,  5.49455649e-01,  5.00003626e-02,\n",
       "        5.49455649e-01, -5.92886924e-02, -5.05641060e-02, -4.26439725e-02,\n",
       "        7.56323877e-02,  1.31588834e-01,  1.60634438e-01,  2.66984953e-01,\n",
       "        7.40306479e-03,  7.40306479e-03,  1.78903638e-01,  1.74906304e-01,\n",
       "        1.78903638e-01,  1.74906304e-01, -1.10710340e-01, -9.68881306e-02,\n",
       "       -6.55122067e-02,  1.74875031e-01,  2.64658805e-02, -3.94285380e-02,\n",
       "       -3.77937394e-02,  1.60688025e-02, -2.36635995e-02, -7.05440102e-02,\n",
       "        3.98891374e-02,  2.14144740e-01, -2.12748654e-01,  3.29732856e-02,\n",
       "        3.29732856e-02,  1.10184801e-01,  1.12021900e-02,  7.42374114e-02,\n",
       "        1.12021900e-02,  8.50928111e-02, -7.69235640e-02,  4.11932789e-02,\n",
       "        4.11932789e-02,  4.18498813e-02, -1.26157761e-01, -8.90584030e-02,\n",
       "       -8.35244348e-02,  5.23325780e-02, -1.28963041e-02, -8.86621380e-02,\n",
       "       -3.06465382e-02, -3.27492638e-02,  1.26262348e-03, -2.68031838e-03,\n",
       "       -5.56070667e-02,  3.71517273e-02,  3.71517273e-02, -5.73966734e-02,\n",
       "        4.29533411e-02,  4.05921265e-01,  3.71045115e-01, -1.19766935e-03,\n",
       "        3.14155484e-01,  1.93562590e-01,  1.08146800e-01, -3.60252055e-03,\n",
       "       -3.85756900e-04,  3.55497537e-01,  3.55497537e-01, -4.70538262e-02,\n",
       "        5.39535195e-02,  3.92474017e-01,  5.23111490e-01,  5.98696821e-03,\n",
       "        2.73141181e-01,  2.28606958e-02,  7.69149903e-03,  2.02681952e-01,\n",
       "        1.17121706e-01, -5.03971975e-02,  4.58830212e-02, -5.49909672e-03,\n",
       "        6.04942982e-02,  6.73162483e-03,  3.74879373e-02,  5.46341009e-03,\n",
       "        3.16832956e-02,  1.19636937e-01,  3.24249804e-01, -3.37071239e-02,\n",
       "        1.19636937e-01,  6.07466078e-02,  2.60837941e-01,  4.64788021e-02,\n",
       "        7.43836824e-02,  6.07466078e-02, -1.20230361e-01, -1.05486696e-01,\n",
       "       -1.05486696e-01, -9.67360447e-02, -1.05486696e-01, -1.20230361e-01,\n",
       "        9.95711753e-02,  2.73826053e-01, -4.99464769e-02,  3.23069505e-01,\n",
       "        3.23069505e-01,  7.93656190e-02, -1.01336176e-01, -4.62827373e-02,\n",
       "       -9.18039911e-03,  7.93656190e-02,  2.32653676e-01,  6.75776306e-03,\n",
       "        1.90497605e-01, -1.06997027e-02,  6.75776306e-03, -9.37406077e-03,\n",
       "        9.61599484e-02, -7.40376090e-02, -2.00299850e-02,  2.13239538e-01,\n",
       "        8.78309734e-02, -1.01327425e-01,  7.58510400e-02,  8.23559426e-02,\n",
       "        3.20283220e-01,  3.66123831e-01, -1.52926664e-01,  4.46532761e-01,\n",
       "        4.94619901e-02,  3.85416524e-01,  1.48544576e-01,  3.85416524e-01,\n",
       "        2.51493498e-01, -1.05454611e-03,  3.03414108e-02,  1.48544576e-01,\n",
       "        4.94619901e-02,  3.85416524e-01,  5.84702464e-01,  2.23821702e-01,\n",
       "        2.97579255e-01,  1.91746823e-01, -2.10135169e-02,  2.23821702e-01,\n",
       "       -2.84095945e-02, -2.84095945e-02,  2.06064983e-01,  1.24086585e-01,\n",
       "        1.87572326e-01,  1.31315034e-01,  1.87572326e-01,  1.02540340e-01,\n",
       "        6.35965761e-02,  9.77831267e-02,  1.87626814e-01,  6.31732204e-02,\n",
       "       -1.81857745e-02, -5.62035879e-02, -5.37942986e-02, -7.36597181e-02,\n",
       "        8.05440585e-02,  2.83172355e-01, -3.19234155e-02, -1.10507002e-01,\n",
       "       -6.89140410e-02,  2.43735802e-02, -3.20066996e-02, -2.85712455e-02,\n",
       "       -2.53558766e-02,  5.40079215e-02,  2.43735802e-02,  1.64723722e-04,\n",
       "        1.65794682e-02, -3.61688306e-02,  1.83606948e-01,  1.76374984e-01,\n",
       "       -1.23392406e-02,  3.14520950e-03,  1.77310103e-01,  3.14520950e-03,\n",
       "        1.77310103e-01, -5.25785381e-02, -1.80586713e-02,  3.64115882e-02,\n",
       "        1.53366988e-01,  1.53366988e-01,  3.78512692e-01,  3.99674036e-01,\n",
       "        2.32469841e-01,  1.34106911e-01,  3.49962379e-01,  3.49962379e-01,\n",
       "       -3.18940895e-02,  1.06826156e-01,  2.16773099e-01,  3.51752731e-01,\n",
       "        4.68214992e-01,  9.42652591e-02,  3.32729104e-01,  5.22036898e-01,\n",
       "        3.79141261e-01,  4.37905788e-01,  1.87872758e-01,  1.87872758e-01,\n",
       "        2.01460554e-01, -2.59916752e-02,  2.86485556e-01,  5.52644709e-01,\n",
       "        2.27085680e-01, -7.59281322e-03,  1.24487638e-01, -2.47748463e-02,\n",
       "       -5.82164554e-04,  3.80357827e-01,  3.66368074e-01,  1.97813636e-01,\n",
       "        2.89564264e-01,  3.87643115e-01,  2.77529001e-01,  1.45608115e-01,\n",
       "       -1.86636216e-02,  1.76924115e-01,  1.32774829e-01,  3.48164760e-01,\n",
       "        1.75919095e-01,  4.31837539e-01,  1.75919095e-01,  3.49668965e-02,\n",
       "        6.54162633e-04,  6.31217319e-01, -2.26946115e-02,  1.95033395e-01,\n",
       "        4.12631221e-01,  1.15921186e-02,  3.27173840e-01,  4.31578447e-01,\n",
       "        3.90014586e-01,  6.31217319e-01,  6.28954321e-01,  1.43943413e-01,\n",
       "        1.84533945e-01,  2.32985301e-01,  1.84533945e-01,  1.84533945e-01,\n",
       "       -4.14572114e-03,  8.51960006e-03, -1.43474185e-02, -4.66643349e-02,\n",
       "       -1.84306903e-03,  1.35633296e-01,  3.59943478e-01,  2.32985301e-01,\n",
       "        6.19181150e-02, -6.04268488e-02,  1.37602946e-01,  4.03940967e-01,\n",
       "       -1.79651261e-01,  2.11100970e-01,  2.11100970e-01,  1.56520687e-02,\n",
       "       -1.79651261e-01,  1.95673307e-01,  1.41708411e-01,  1.38116598e-01,\n",
       "       -5.98308208e-02,  2.51126282e-01,  2.20679588e-01,  2.37036505e-01,\n",
       "        3.30445770e-01,  2.14902031e-01, -2.37197637e-03,  1.20835833e-03,\n",
       "       -7.87832808e-02,  4.42709742e-01, -2.27242796e-02,  3.78736691e-02,\n",
       "        3.27905107e-01, -3.77566126e-02,  2.12917203e-01, -9.01954577e-02,\n",
       "        2.46623385e-01,  1.24970735e-01,  6.75660659e-03,  4.23755469e-01,\n",
       "        6.75660659e-03,  1.24970735e-01,  1.00649935e-01, -1.23509347e-03,\n",
       "        1.74147342e-02,  1.02584565e-01,  4.23755469e-01, -4.49538087e-02,\n",
       "        5.49711404e-01,  5.28543775e-02,  2.27280281e-01,  5.28543775e-02,\n",
       "        5.67988389e-02,  3.20817280e-01,  2.27280281e-01,  3.61276532e-02,\n",
       "        3.50071175e-01,  3.28912823e-01,  2.14028336e-01,  3.47410886e-01,\n",
       "        3.81336581e-01, -2.38196794e-02,  2.40491400e-01,  2.39669201e-01,\n",
       "        7.55701483e-02,  2.25080576e-01,  2.25080576e-01, -7.95359608e-03,\n",
       "       -1.11138696e-02,  2.73673167e-01,  2.45073099e-01,  4.71839074e-01,\n",
       "        3.46763107e-02, -6.86855627e-02,  2.73673167e-01, -3.15815046e-02,\n",
       "        2.18553895e-01, -2.68302192e-02,  4.03762345e-01, -8.72622065e-02,\n",
       "        1.91131212e-01,  1.67072784e-01,  2.57019885e-01,  6.11625832e-01,\n",
       "        8.70120891e-02,  6.67068962e-03,  2.45004869e-01,  2.60690813e-01,\n",
       "        2.80716706e-01,  3.45606863e-01,  2.62983152e-01,  2.38685247e-02,\n",
       "        1.61265557e-01,  4.86330646e-01,  2.38685247e-02,  7.59910456e-02])"
      ]
     },
     "execution_count": 83,
     "metadata": {},
     "output_type": "execute_result"
    }
   ],
   "source": [
    "# Using Linear Regression in Binary classification\n",
    "\n",
    "from sklearn.linear_model import LinearRegression\n",
    "reg= LinearRegression()\n",
    "reg.fit(x_train,y_train)\n",
    "y_pred1=reg.predict(x_test)\n",
    "y_pred1"
   ]
  },
  {
   "cell_type": "markdown",
   "id": "90601afa",
   "metadata": {},
   "source": [
    "**Hence Linear Regression can't be used as a classifier. By looking at the predicted values array, there are values out of range. It should be either 1 or 0. Linear regression can't be used in classification problems**\n"
   ]
  },
  {
   "cell_type": "markdown",
   "id": "e09edfc3",
   "metadata": {},
   "source": [
    "# SVM"
   ]
  },
  {
   "cell_type": "code",
   "execution_count": 84,
   "id": "11eb739b",
   "metadata": {},
   "outputs": [],
   "source": [
    "# feature scaling, for a better performance of SVM\n",
    "\n",
    "from sklearn.preprocessing import StandardScaler\n",
    "scaler= StandardScaler()\n",
    "scaler.fit(x_train)\n",
    "x_trs=scaler.transform(x_train)\n",
    "scaler.fit(x_test)\n",
    "x_tes= scaler.transform(x_test)"
   ]
  },
  {
   "cell_type": "code",
   "execution_count": 85,
   "id": "41a3e496",
   "metadata": {},
   "outputs": [],
   "source": [
    "# Using SVM\n",
    "\n",
    "from sklearn import svm\n",
    "sv= svm.SVC()\n",
    "sv.fit(x_trs,y_train)\n",
    "y_pred2= sv.predict(x_tes)"
   ]
  },
  {
   "cell_type": "code",
   "execution_count": 86,
   "id": "d4cb8042",
   "metadata": {},
   "outputs": [
    {
     "name": "stdout",
     "output_type": "stream",
     "text": [
      "Accuracy of the model is 0.88125\n",
      "Precision of the model is 0.2222222222222222\n",
      "Recall Score of the model is 0.4444444444444444\n",
      "F1 Score of the model is 0.2962962962962963\n"
     ]
    }
   ],
   "source": [
    "#calculating accuracy, precision, recall and f1 scores\n",
    "print('Accuracy of the model is',metrics.accuracy_score(y_pred2,y_test))\n",
    "print('Precision of the model is',metrics.precision_score(y_pred2,y_test))\n",
    "print('Recall Score of the model is',metrics.recall_score(y_pred2,y_test))\n",
    "print('F1 Score of the model is',metrics.f1_score(y_pred2,y_test))"
   ]
  },
  {
   "cell_type": "code",
   "execution_count": 87,
   "id": "464d9eea",
   "metadata": {},
   "outputs": [
    {
     "name": "stdout",
     "output_type": "stream",
     "text": [
      "Specificity is 0.9072847682119205\n",
      "Sensitivity is 0.4444444444444444\n"
     ]
    }
   ],
   "source": [
    "# calculating specificity and sensitivity from confusion matrix\n",
    "tn, fp, fn, tp = metrics.confusion_matrix(y_pred2,y_test).ravel()\n",
    "specificity = tn / (tn+fp)\n",
    "sensitivity= tp/(tp+fn)\n",
    "print('Specificity is',specificity)\n",
    "print('Sensitivity is',sensitivity)"
   ]
  },
  {
   "cell_type": "markdown",
   "id": "726c137a",
   "metadata": {},
   "source": [
    "# Naives Bayesian Model"
   ]
  },
  {
   "cell_type": "code",
   "execution_count": 88,
   "id": "56127c69",
   "metadata": {},
   "outputs": [],
   "source": [
    "# feature scaling again\n",
    "\n",
    "from sklearn.preprocessing import StandardScaler\n",
    "scaler= StandardScaler()\n",
    "scaler.fit(x_train)\n",
    "x_trs=scaler.transform(x_train)\n",
    "scaler.fit(x_test)\n",
    "x_tes= scaler.transform(x_test)"
   ]
  },
  {
   "cell_type": "code",
   "execution_count": 89,
   "id": "f1f77b3b",
   "metadata": {},
   "outputs": [],
   "source": [
    "# Using Naive Bayes model\n",
    "\n",
    "from sklearn.naive_bayes import GaussianNB\n",
    "gas= GaussianNB()\n",
    "gas.fit(x_trs,y_train)\n",
    "y_pred3=gas.predict(x_tes)"
   ]
  },
  {
   "cell_type": "code",
   "execution_count": 90,
   "id": "18f1c4f8",
   "metadata": {},
   "outputs": [
    {
     "name": "stdout",
     "output_type": "stream",
     "text": [
      "Accuracy of the model is 0.8354166666666667\n",
      "Precision of the model is 0.5\n",
      "Recall Score of the model is 0.34177215189873417\n",
      "F1 Score of the model is 0.40601503759398494\n"
     ]
    }
   ],
   "source": [
    "#calculating accuracy, precision, recall and f1 scores\n",
    "print('Accuracy of the model is',metrics.accuracy_score(y_pred3,y_test))\n",
    "print('Precision of the model is',metrics.precision_score(y_pred3,y_test))\n",
    "print('Recall Score of the model is',metrics.recall_score(y_pred3,y_test))\n",
    "print('F1 Score of the model is',metrics.f1_score(y_pred3,y_test))"
   ]
  },
  {
   "cell_type": "code",
   "execution_count": 91,
   "id": "51c752bc",
   "metadata": {},
   "outputs": [
    {
     "name": "stdout",
     "output_type": "stream",
     "text": [
      "Specificity is 0.9326683291770573\n",
      "Sensitivity is 0.34177215189873417\n"
     ]
    }
   ],
   "source": [
    "# calculating specificity and sensitivity from confusion matrix\n",
    "tn, fp, fn, tp = metrics.confusion_matrix(y_pred3,y_test).ravel()\n",
    "specificity = tn / (tn+fp)\n",
    "sensitivity= tp/(tp+fn)\n",
    "print('Specificity is',specificity)\n",
    "print('Sensitivity is',sensitivity)"
   ]
  },
  {
   "cell_type": "code",
   "execution_count": null,
   "id": "91e15ca0",
   "metadata": {},
   "outputs": [],
   "source": []
  }
 ],
 "metadata": {
  "kernelspec": {
   "display_name": "Python 3",
   "language": "python",
   "name": "python3"
  },
  "language_info": {
   "codemirror_mode": {
    "name": "ipython",
    "version": 3
   },
   "file_extension": ".py",
   "mimetype": "text/x-python",
   "name": "python",
   "nbconvert_exporter": "python",
   "pygments_lexer": "ipython3",
   "version": "3.8.8"
  }
 },
 "nbformat": 4,
 "nbformat_minor": 5
}
