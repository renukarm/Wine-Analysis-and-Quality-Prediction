{
 "cells": [
  {
   "cell_type": "code",
   "execution_count": 1,
   "id": "1ce57d36",
   "metadata": {},
   "outputs": [
    {
     "data": {
      "text/html": [
       "<div>\n",
       "<style scoped>\n",
       "    .dataframe tbody tr th:only-of-type {\n",
       "        vertical-align: middle;\n",
       "    }\n",
       "\n",
       "    .dataframe tbody tr th {\n",
       "        vertical-align: top;\n",
       "    }\n",
       "\n",
       "    .dataframe thead th {\n",
       "        text-align: right;\n",
       "    }\n",
       "</style>\n",
       "<table border=\"1\" class=\"dataframe\">\n",
       "  <thead>\n",
       "    <tr style=\"text-align: right;\">\n",
       "      <th></th>\n",
       "      <th>fixed acidity</th>\n",
       "      <th>volatile acidity</th>\n",
       "      <th>citric acid</th>\n",
       "      <th>residual sugar</th>\n",
       "      <th>chlorides</th>\n",
       "      <th>free sulfur dioxide</th>\n",
       "      <th>total sulfur dioxide</th>\n",
       "      <th>density</th>\n",
       "      <th>pH</th>\n",
       "      <th>sulphates</th>\n",
       "      <th>alcohol</th>\n",
       "      <th>quality</th>\n",
       "    </tr>\n",
       "  </thead>\n",
       "  <tbody>\n",
       "    <tr>\n",
       "      <th>0</th>\n",
       "      <td>10.6</td>\n",
       "      <td>0.28</td>\n",
       "      <td>0.39</td>\n",
       "      <td>15.5</td>\n",
       "      <td>0.069</td>\n",
       "      <td>6</td>\n",
       "      <td>23</td>\n",
       "      <td>1.0026</td>\n",
       "      <td>3.12</td>\n",
       "      <td>0.66</td>\n",
       "      <td>9.2</td>\n",
       "      <td>5</td>\n",
       "    </tr>\n",
       "    <tr>\n",
       "      <th>1</th>\n",
       "      <td>9.4</td>\n",
       "      <td>0.30</td>\n",
       "      <td>0.56</td>\n",
       "      <td>2.8</td>\n",
       "      <td>0.080</td>\n",
       "      <td>6</td>\n",
       "      <td>17</td>\n",
       "      <td>0.9964</td>\n",
       "      <td>3.15</td>\n",
       "      <td>0.92</td>\n",
       "      <td>11.7</td>\n",
       "      <td>8</td>\n",
       "    </tr>\n",
       "    <tr>\n",
       "      <th>2</th>\n",
       "      <td>10.6</td>\n",
       "      <td>0.36</td>\n",
       "      <td>0.59</td>\n",
       "      <td>2.2</td>\n",
       "      <td>0.152</td>\n",
       "      <td>6</td>\n",
       "      <td>18</td>\n",
       "      <td>0.9986</td>\n",
       "      <td>3.04</td>\n",
       "      <td>1.05</td>\n",
       "      <td>9.4</td>\n",
       "      <td>5</td>\n",
       "    </tr>\n",
       "    <tr>\n",
       "      <th>3</th>\n",
       "      <td>10.6</td>\n",
       "      <td>0.36</td>\n",
       "      <td>0.60</td>\n",
       "      <td>2.2</td>\n",
       "      <td>0.152</td>\n",
       "      <td>7</td>\n",
       "      <td>18</td>\n",
       "      <td>0.9986</td>\n",
       "      <td>3.04</td>\n",
       "      <td>1.06</td>\n",
       "      <td>9.4</td>\n",
       "      <td>5</td>\n",
       "    </tr>\n",
       "    <tr>\n",
       "      <th>4</th>\n",
       "      <td>10.6</td>\n",
       "      <td>0.44</td>\n",
       "      <td>0.68</td>\n",
       "      <td>4.1</td>\n",
       "      <td>0.114</td>\n",
       "      <td>6</td>\n",
       "      <td>24</td>\n",
       "      <td>0.9970</td>\n",
       "      <td>3.06</td>\n",
       "      <td>0.66</td>\n",
       "      <td>13.4</td>\n",
       "      <td>6</td>\n",
       "    </tr>\n",
       "  </tbody>\n",
       "</table>\n",
       "</div>"
      ],
      "text/plain": [
       "   fixed acidity  volatile acidity  citric acid  residual sugar  chlorides  \\\n",
       "0           10.6              0.28         0.39            15.5      0.069   \n",
       "1            9.4              0.30         0.56             2.8      0.080   \n",
       "2           10.6              0.36         0.59             2.2      0.152   \n",
       "3           10.6              0.36         0.60             2.2      0.152   \n",
       "4           10.6              0.44         0.68             4.1      0.114   \n",
       "\n",
       "   free sulfur dioxide  total sulfur dioxide  density    pH  sulphates  \\\n",
       "0                    6                    23   1.0026  3.12       0.66   \n",
       "1                    6                    17   0.9964  3.15       0.92   \n",
       "2                    6                    18   0.9986  3.04       1.05   \n",
       "3                    7                    18   0.9986  3.04       1.06   \n",
       "4                    6                    24   0.9970  3.06       0.66   \n",
       "\n",
       "   alcohol  quality  \n",
       "0      9.2        5  \n",
       "1     11.7        8  \n",
       "2      9.4        5  \n",
       "3      9.4        5  \n",
       "4     13.4        6  "
      ]
     },
     "execution_count": 1,
     "metadata": {},
     "output_type": "execute_result"
    }
   ],
   "source": [
    "#importing necessary datasets\n",
    "import pandas as pd\n",
    "import numpy as np\n",
    "df_train= pd.read_csv('https://raw.githubusercontent.com/rafathrb/test/main/wineQualityRed_train.csv')\n",
    "df_test= pd.read_csv('https://raw.githubusercontent.com/rafathrb/test/main/wineQualityRed_test.csv')\n",
    "df_train.head()"
   ]
  },
  {
   "cell_type": "code",
   "execution_count": 15,
   "id": "57a0fbd4",
   "metadata": {},
   "outputs": [],
   "source": [
    "#preparing target and feature variables\n",
    "df_train['type']=(df_train['quality']>=7).astype('int')\n",
    "df_test['type']=(df_test['quality']>=7).astype('int')\n",
    "x_tr= df_train.drop(['quality','type'],axis=1)\n",
    "y_train= df_train['type']\n",
    "x_te= df_test.drop(['quality','type'],axis=1)\n",
    "y_test= df_test['type']"
   ]
  },
  {
   "cell_type": "markdown",
   "id": "74f9fa0b",
   "metadata": {},
   "source": [
    "# Feature scaling and PCA"
   ]
  },
  {
   "cell_type": "code",
   "execution_count": 16,
   "id": "1b3ae9eb",
   "metadata": {},
   "outputs": [],
   "source": [
    "from sklearn.preprocessing import StandardScaler\n",
    "sca= StandardScaler()\n",
    "x_train= sca.fit_transform(x_tr)\n",
    "x_test= sca.fit_transform(x_te)"
   ]
  },
  {
   "cell_type": "code",
   "execution_count": 17,
   "id": "2e8d2335",
   "metadata": {},
   "outputs": [],
   "source": [
    "from sklearn.decomposition import PCA\n",
    "pca= PCA(n_components=5)\n",
    "pc_train= pca.fit_transform(x_train)\n",
    "pc_test= pca.fit_transform(x_test)"
   ]
  },
  {
   "cell_type": "markdown",
   "id": "873455e1",
   "metadata": {},
   "source": [
    "# Logistic Regression"
   ]
  },
  {
   "cell_type": "code",
   "execution_count": 18,
   "id": "00a80a73",
   "metadata": {},
   "outputs": [],
   "source": [
    "from sklearn.linear_model import LogisticRegression\n",
    "from sklearn import metrics\n",
    "logreg= LogisticRegression()\n",
    "logreg.fit(pc_train,y_train)\n",
    "y_pred=logreg.predict(pc_test)"
   ]
  },
  {
   "cell_type": "code",
   "execution_count": 19,
   "id": "87949e23",
   "metadata": {},
   "outputs": [
    {
     "name": "stdout",
     "output_type": "stream",
     "text": [
      "Accuracy of the model is 0.8833333333333333\n",
      "Precision of the model is 0.018518518518518517\n",
      "Recall Score of the model is 0.25\n",
      "F1 Score of the model is 0.034482758620689655\n"
     ]
    }
   ],
   "source": [
    "#calculating accuracy, precision, recall and f1 scores\n",
    "print('Accuracy of the model is',metrics.accuracy_score(y_pred,y_test))\n",
    "print('Precision of the model is',metrics.precision_score(y_pred,y_test))\n",
    "print('Recall Score of the model is',metrics.recall_score(y_pred,y_test))\n",
    "print('F1 Score of the model is',metrics.f1_score(y_pred,y_test))"
   ]
  },
  {
   "cell_type": "code",
   "execution_count": 20,
   "id": "d1d81155",
   "metadata": {},
   "outputs": [
    {
     "name": "stdout",
     "output_type": "stream",
     "text": [
      "Specificity is 0.8886554621848739\n",
      "Sensitivity is 0.25\n"
     ]
    }
   ],
   "source": [
    "# calculating specificity and sensitivity from confusion matrix\n",
    "tn, fp, fn, tp = metrics.confusion_matrix(y_pred,y_test).ravel()\n",
    "specificity = tn / (tn+fp)\n",
    "sensitivity= tp/(tp+fn)\n",
    "print('Specificity is',specificity)\n",
    "print('Sensitivity is',sensitivity)"
   ]
  },
  {
   "cell_type": "markdown",
   "id": "8da1a2f4",
   "metadata": {},
   "source": [
    "# Linear Regression as Classifier"
   ]
  },
  {
   "cell_type": "code",
   "execution_count": 21,
   "id": "40d2d697",
   "metadata": {},
   "outputs": [
    {
     "data": {
      "text/plain": [
       "array([ 0.22877752,  0.04278823,  0.15835235,  0.08798446,  0.22877752,\n",
       "        0.19819484,  0.13540751,  0.26548136,  0.28447901, -0.11360683,\n",
       "        0.13309718, -0.11360683,  0.16586391,  0.36384672, -0.40230161,\n",
       "       -0.4026051 , -0.13010241,  0.32628868,  0.19153403,  0.26617142,\n",
       "       -0.0114241 ,  0.01325893,  0.2780436 ,  0.14827097,  0.11697066,\n",
       "        0.27265554,  0.34795544,  0.2780436 ,  0.20594856,  0.31365789,\n",
       "        0.06663109,  0.14272639,  0.00787564, -0.45637785,  0.17714197,\n",
       "        0.19734239,  0.34649208,  0.21610097,  0.39622105, -0.02546197,\n",
       "       -0.02546197,  0.10736412,  0.43069579,  0.32862708,  0.33613348,\n",
       "        0.22988536, -0.03836097,  0.21927714,  0.33351204,  0.07523211,\n",
       "        0.33168147,  0.30228092,  0.32566482, -0.19334263, -0.05033426,\n",
       "        0.0152873 ,  0.28310504, -0.37541208,  0.11794354,  0.1892595 ,\n",
       "        0.08949799, -0.0130377 ,  0.22431466,  0.17550764,  0.27202732,\n",
       "        0.27202732,  0.23278744,  0.35497557,  0.02483685,  0.34965929,\n",
       "        0.21353891,  0.02263759,  0.02549963,  0.19191897, -0.05617866,\n",
       "        0.2134708 ,  0.2134708 ,  0.23518518,  0.12652122, -0.05905818,\n",
       "        0.34780894,  0.26440063,  0.03136618,  0.34194135,  0.11902582,\n",
       "        0.14876935,  0.03629077,  0.25078188, -0.14736891,  0.26924911,\n",
       "       -0.30078818,  0.03629077,  0.05025594,  0.25078188, -0.1031719 ,\n",
       "        0.0525971 ,  0.2840168 ,  0.32052501,  0.3394738 ,  0.20214197,\n",
       "        0.19402032,  0.29353464,  0.20214197,  0.12852611,  0.25407359,\n",
       "        0.12852611,  0.30365024,  0.14796665,  0.04031019, -0.262476  ,\n",
       "        0.23793179,  0.05921657,  0.02545927,  0.07335466,  0.23793179,\n",
       "        0.14692761,  0.21259114,  0.26887196,  0.18422079,  0.0191576 ,\n",
       "        0.17445991,  0.18422079,  0.32070136,  0.20777604, -0.01551008,\n",
       "       -0.01200993,  0.40775227,  0.40396334,  0.3899154 ,  0.31106183,\n",
       "       -0.1607775 ,  0.06290599,  0.06290599,  0.22025728,  0.24757742,\n",
       "        0.15490708,  0.22623669,  0.17265761,  0.01713465, -0.00418702,\n",
       "        0.15490708,  0.22623669,  0.120696  ,  0.33854634,  0.120696  ,\n",
       "       -0.1957032 ,  0.03203366,  0.19771154,  0.23013091,  0.18042561,\n",
       "        0.32617099,  0.23140534, -0.01617381, -0.01617381, -0.27096679,\n",
       "       -0.26038062, -0.27096679, -0.26038062,  0.23744062,  0.04203055,\n",
       "        0.32456405,  0.35018525,  0.20044327, -0.40160285, -0.38936543,\n",
       "        0.07183823,  0.01852891,  0.16340998,  0.22866745,  0.35012231,\n",
       "        0.33386389,  0.29691487,  0.29691487,  0.12737268,  0.2463777 ,\n",
       "        0.16715607,  0.2463777 ,  0.24147277,  0.28699689,  0.20004638,\n",
       "        0.20004638,  0.05086607,  0.14621158,  0.15409669,  0.18553879,\n",
       "       -0.03680182,  0.09758582,  0.2416162 , -0.08170608, -0.09909161,\n",
       "       -0.12829499,  0.09876132, -0.0868685 ,  0.26663438,  0.26663438,\n",
       "       -0.10574729,  0.13273538,  0.24283577,  0.19019879,  0.26250147,\n",
       "        0.29194779, -0.26406275,  0.19043011,  0.1775393 ,  0.20075089,\n",
       "        0.23658457,  0.23658457, -0.11627393,  0.00411986,  0.29512009,\n",
       "        0.35347822,  0.15096415,  0.30534069, -0.01175502,  0.23005256,\n",
       "       -0.23060255,  0.2062092 ,  0.19912086,  0.21738606, -0.16829037,\n",
       "        0.04696472,  0.10228029,  0.36316546,  0.26772203,  0.14842635,\n",
       "       -0.01164299,  0.17813837,  0.26338568, -0.01164299,  0.21552412,\n",
       "        0.05116619,  0.18758085,  0.08155526,  0.21552412,  0.24839444,\n",
       "        0.20407675,  0.20407675,  0.19592566,  0.20407675,  0.24839444,\n",
       "        0.34032472,  0.29128261, -0.08094165,  0.22981856,  0.22981856,\n",
       "        0.33652451,  0.14495836,  0.10924433,  0.24079493,  0.33652451,\n",
       "        0.17877156,  0.20704255,  0.25716342,  0.14400288,  0.20704255,\n",
       "       -0.07916801,  0.29905301,  0.1739815 ,  0.50751491,  0.18021829,\n",
       "        0.14651444,  0.1699664 ,  0.254455  ,  0.09328909,  0.28800093,\n",
       "        0.33443001,  0.00398759,  0.17635368,  0.26294974,  0.2588282 ,\n",
       "       -0.01240495,  0.2588282 ,  0.0187934 ,  0.21680166, -0.21791886,\n",
       "       -0.01240495,  0.26294974,  0.2588282 ,  0.21813784,  0.09024655,\n",
       "        0.23844683,  0.43410986,  0.1252844 ,  0.09024655, -0.086215  ,\n",
       "       -0.086215  ,  0.05769741,  0.01430326,  0.13492731, -0.16561284,\n",
       "        0.13492731,  0.42201036,  0.10826763,  0.31975227,  0.06552146,\n",
       "        0.24657948, -0.01156876,  0.27526227,  0.29469959,  0.26126833,\n",
       "        0.12719835,  0.3072022 ,  0.22563189,  0.37959075,  0.07200923,\n",
       "        0.23463561,  0.20071386,  0.33723741,  0.35236737,  0.2360678 ,\n",
       "        0.23463561,  0.01405067, -0.03123626, -0.2363766 ,  0.00715861,\n",
       "        0.1113898 , -0.18382862, -0.05084404,  0.06054829, -0.05084404,\n",
       "        0.06054829, -0.0816992 ,  0.30215159, -0.10653053, -0.16424637,\n",
       "       -0.16424637,  0.3003776 ,  0.28490858,  0.24759415,  0.28498996,\n",
       "        0.22193807,  0.22193807, -0.11164105,  0.1888286 ,  0.20034985,\n",
       "        0.30313762,  0.35574156, -0.01179723, -0.08128204,  0.25585203,\n",
       "        0.25956026,  0.3206755 ,  0.33893347,  0.33893347,  0.2523939 ,\n",
       "       -0.0682197 ,  0.23471839,  0.3236615 ,  0.1656596 ,  0.24628316,\n",
       "        0.18241344,  0.2500761 ,  0.29562474, -0.05071685, -0.2773581 ,\n",
       "        0.22995999, -0.0054717 ,  0.23874316,  0.23378156,  0.16534847,\n",
       "        0.10422683,  0.10184163,  0.21764769,  0.31751092,  0.08662435,\n",
       "        0.29676757,  0.08662435,  0.19941109,  0.06553294,  0.35760756,\n",
       "       -0.03745225,  0.25161996,  0.10754293,  0.13498029,  0.16814418,\n",
       "        0.2801538 ,  0.1208456 ,  0.35760756,  0.21670139,  0.048378  ,\n",
       "        0.24014927,  0.10001967,  0.24014927,  0.24014927,  0.07244581,\n",
       "        0.22702008,  0.0917597 ,  0.15802017,  0.07988054,  0.13382978,\n",
       "        0.2015067 ,  0.10001967,  0.2589535 ,  0.05756408,  0.24694355,\n",
       "        0.16725254, -0.66981329,  0.15721842,  0.15721842,  0.21380673,\n",
       "       -0.66981329,  0.14530763,  0.04602403,  0.18865457,  0.18550594,\n",
       "        0.26871845,  0.23503351,  0.18205653,  0.31244822, -0.04583307,\n",
       "       -0.06482061, -0.01551621,  0.11084214,  0.17830763, -0.13357819,\n",
       "       -0.31359402,  0.329844  , -0.16829482,  0.30616524,  0.00696767,\n",
       "       -0.03496131,  0.05121201,  0.14337075,  0.30491692,  0.14337075,\n",
       "        0.05121201,  0.14078564,  0.28060886,  0.25945716,  0.18906847,\n",
       "        0.30491692,  0.03811633,  0.26533747,  0.25196772,  0.03844892,\n",
       "        0.25196772, -0.06767227,  0.24965188,  0.03844892,  0.24374369,\n",
       "        0.25982539,  0.26580995,  0.1729424 ,  0.26070537,  0.38412908,\n",
       "        0.27419056, -0.06967876,  0.35884403,  0.29217194,  0.1325898 ,\n",
       "        0.1325898 ,  0.43155349,  0.19025256,  0.27528258,  0.0839217 ,\n",
       "        0.23510439,  0.29694068, -0.03114437,  0.27528258,  0.14746459,\n",
       "        0.22445697,  0.2804586 ,  0.2467467 , -0.14872023,  0.29795177,\n",
       "        0.22280448,  0.11187548,  0.35216127,  0.25900042,  0.02976179,\n",
       "        0.12116994,  0.07577932,  0.00178748,  0.32957717,  0.26820783,\n",
       "        0.2873246 ,  0.30658832,  0.34368881,  0.2873246 ,  0.26525617])"
      ]
     },
     "execution_count": 21,
     "metadata": {},
     "output_type": "execute_result"
    }
   ],
   "source": [
    "# Using Linear Regression in Binary classification\n",
    "\n",
    "from sklearn.linear_model import LinearRegression\n",
    "reg= LinearRegression()\n",
    "reg.fit(pc_train,y_train)\n",
    "y_pred1=reg.predict(pc_test)\n",
    "y_pred1"
   ]
  },
  {
   "cell_type": "markdown",
   "id": "d37963b7",
   "metadata": {},
   "source": [
    "**Hence Linear Regression can't be used as a classifier. By looking at the predicted values array, there are values out of range. It should be either 1 or 0. Linear regression can't be used in classification problems**\n"
   ]
  },
  {
   "cell_type": "markdown",
   "id": "fcd39bee",
   "metadata": {},
   "source": [
    "# SVM"
   ]
  },
  {
   "cell_type": "code",
   "execution_count": 23,
   "id": "b9e46d68",
   "metadata": {},
   "outputs": [],
   "source": [
    "# Using SVM\n",
    "\n",
    "from sklearn import svm\n",
    "sv= svm.SVC()\n",
    "sv.fit(pc_train,y_train)\n",
    "y_pred2= sv.predict(pc_test)"
   ]
  },
  {
   "cell_type": "code",
   "execution_count": 24,
   "id": "7529cd59",
   "metadata": {},
   "outputs": [
    {
     "name": "stdout",
     "output_type": "stream",
     "text": [
      "Accuracy of the model is 0.8854166666666666\n",
      "Precision of the model is 0.018518518518518517\n",
      "Recall Score of the model is 0.3333333333333333\n",
      "F1 Score of the model is 0.03508771929824561\n"
     ]
    }
   ],
   "source": [
    "#calculating accuracy, precision, recall and f1 scores\n",
    "print('Accuracy of the model is',metrics.accuracy_score(y_pred2,y_test))\n",
    "print('Precision of the model is',metrics.precision_score(y_pred2,y_test))\n",
    "print('Recall Score of the model is',metrics.recall_score(y_pred2,y_test))\n",
    "print('F1 Score of the model is',metrics.f1_score(y_pred2,y_test))"
   ]
  },
  {
   "cell_type": "code",
   "execution_count": 25,
   "id": "8991ec4f",
   "metadata": {},
   "outputs": [
    {
     "name": "stdout",
     "output_type": "stream",
     "text": [
      "Specificity is 0.8888888888888888\n",
      "Sensitivity is 0.3333333333333333\n"
     ]
    }
   ],
   "source": [
    "# calculating specificity and sensitivity from confusion matrix\n",
    "tn, fp, fn, tp = metrics.confusion_matrix(y_pred2,y_test).ravel()\n",
    "specificity = tn / (tn+fp)\n",
    "sensitivity= tp/(tp+fn)\n",
    "print('Specificity is',specificity)\n",
    "print('Sensitivity is',sensitivity)"
   ]
  },
  {
   "cell_type": "markdown",
   "id": "f0905eba",
   "metadata": {},
   "source": [
    "# Naives Bayesian "
   ]
  },
  {
   "cell_type": "code",
   "execution_count": 26,
   "id": "32703202",
   "metadata": {},
   "outputs": [],
   "source": [
    "# Using Naive Bayes model\n",
    "\n",
    "from sklearn.naive_bayes import GaussianNB\n",
    "gas= GaussianNB()\n",
    "gas.fit(pc_train,y_train)\n",
    "y_pred3=gas.predict(pc_test)"
   ]
  },
  {
   "cell_type": "code",
   "execution_count": 27,
   "id": "ba48e1a6",
   "metadata": {},
   "outputs": [
    {
     "name": "stdout",
     "output_type": "stream",
     "text": [
      "Accuracy of the model is 0.8875\n",
      "Precision of the model is 0.018518518518518517\n",
      "Recall Score of the model is 0.5\n",
      "F1 Score of the model is 0.03571428571428571\n"
     ]
    }
   ],
   "source": [
    "#calculating accuracy, precision, recall and f1 scores\n",
    "print('Accuracy of the model is',metrics.accuracy_score(y_pred3,y_test))\n",
    "print('Precision of the model is',metrics.precision_score(y_pred3,y_test))\n",
    "print('Recall Score of the model is',metrics.recall_score(y_pred3,y_test))\n",
    "print('F1 Score of the model is',metrics.f1_score(y_pred3,y_test))"
   ]
  },
  {
   "cell_type": "code",
   "execution_count": 28,
   "id": "ee87f802",
   "metadata": {},
   "outputs": [
    {
     "name": "stdout",
     "output_type": "stream",
     "text": [
      "Specificity is 0.8891213389121339\n",
      "Sensitivity is 0.5\n"
     ]
    }
   ],
   "source": [
    "# calculating specificity and sensitivity from confusion matrix\n",
    "tn, fp, fn, tp = metrics.confusion_matrix(y_pred3,y_test).ravel()\n",
    "specificity = tn / (tn+fp)\n",
    "sensitivity= tp/(tp+fn)\n",
    "print('Specificity is',specificity)\n",
    "print('Sensitivity is',sensitivity)"
   ]
  },
  {
   "cell_type": "code",
   "execution_count": null,
   "id": "5828ede3",
   "metadata": {},
   "outputs": [],
   "source": []
  }
 ],
 "metadata": {
  "kernelspec": {
   "display_name": "Python 3",
   "language": "python",
   "name": "python3"
  },
  "language_info": {
   "codemirror_mode": {
    "name": "ipython",
    "version": 3
   },
   "file_extension": ".py",
   "mimetype": "text/x-python",
   "name": "python",
   "nbconvert_exporter": "python",
   "pygments_lexer": "ipython3",
   "version": "3.8.8"
  }
 },
 "nbformat": 4,
 "nbformat_minor": 5
}
